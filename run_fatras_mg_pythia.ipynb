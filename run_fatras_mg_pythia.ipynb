{
 "cells": [
  {
   "cell_type": "code",
   "execution_count": 1,
   "id": "d901a781-1c1a-41ee-ab6d-cf3a5b826d5f",
   "metadata": {},
   "outputs": [],
   "source": [
    "import acts"
   ]
  },
  {
   "cell_type": "code",
   "execution_count": 2,
   "id": "e89f112f-0991-4df6-9f21-2afdf9ef9e4e",
   "metadata": {},
   "outputs": [],
   "source": [
    "import sys\n",
    "\n",
    "log = open(\"output_detector_mg.log\", \"w\")\n",
    "sys.stdout = sys.stderr = log"
   ]
  },
  {
   "cell_type": "code",
   "execution_count": 3,
   "id": "9991a886-6cc7-4a28-9db0-bbc1f3b03863",
   "metadata": {},
   "outputs": [],
   "source": [
    "!python fatras_mg_pythia.py"
   ]
  },
  {
   "cell_type": "code",
   "execution_count": 4,
   "id": "4bba73c8-e90e-46b9-818b-32f52fb8d83d",
   "metadata": {},
   "outputs": [],
   "source": [
    "print(\"Done\")"
   ]
  },
  {
   "cell_type": "code",
   "execution_count": null,
   "id": "5cf804b7-afd7-4330-9db4-d86ceabf410d",
   "metadata": {},
   "outputs": [],
   "source": []
  },
  {
   "cell_type": "code",
   "execution_count": 1,
   "id": "82799afe-c492-4f96-aa97-733d31bbf2ca",
   "metadata": {},
   "outputs": [
    {
     "name": "stdout",
     "output_type": "stream",
     "text": [
      "Keys: ['vertices;1']\n"
     ]
    }
   ],
   "source": [
    "import uproot\n",
    "\n",
    "# Load the ROOT file\n",
    "file = uproot.open(\"mg_pythia_sim_output/root/background/run_01vertices.root\")\n",
    "\n",
    "# Print all keys (TTree names)\n",
    "print(\"Keys:\", file.keys())"
   ]
  },
  {
   "cell_type": "code",
   "execution_count": 6,
   "id": "3425c6dc-002e-4633-b151-5128022da855",
   "metadata": {},
   "outputs": [
    {
     "name": "stdout",
     "output_type": "stream",
     "text": [
      "Branches: ['event_id', 'vertex_id', 'process', 'vx', 'vy', 'vz', 'vt', 'outgoing_particles', 'vertex_primary', 'vertex_secondary', 'generation']\n",
      "Vertex 0: (0.00, 0.00, 0.00)\n",
      "Vertex 1: (-0.00, -0.00, 0.00)\n",
      "Vertex 2: (-0.00, 0.00, 0.00)\n",
      "Vertex 3: (-0.00, 0.00, 0.00)\n",
      "Vertex 4: (-0.00, 0.00, 0.00)\n",
      "Vertex 5: (-1.73, 0.46, 9.73)\n",
      "Vertex 6: (-1.75, 0.47, 9.82)\n",
      "Vertex 7: (-1.75, 0.47, 9.82)\n",
      "Vertex 8: (-21.15, -24.76, 30.75)\n",
      "Vertex 9: (-0.00, 0.00, -0.00)\n"
     ]
    }
   ],
   "source": [
    "tree = file[\"vertices\"]  # update if name is different\n",
    "# Print all available branches\n",
    "print(\"Branches:\", tree.keys())\n",
    "\n",
    "# Load branches\n",
    "vx = tree[\"vx\"].array()\n",
    "vy = tree[\"vy\"].array()\n",
    "vz = tree[\"vz\"].array()\n",
    "\n",
    "# Print the first 10 vertices across events\n",
    "counter = 0\n",
    "for event_vx, event_vy, event_vz in zip(vx, vy, vz):\n",
    "    for x, y, z in zip(event_vx, event_vy, event_vz):\n",
    "        print(f\"Vertex {counter}: ({x:.2f}, {y:.2f}, {z:.2f})\")\n",
    "        counter += 1\n",
    "        if counter >= 10:\n",
    "            break\n",
    "    if counter >= 10:\n",
    "        break\n",
    "\n",
    "\n",
    "\n",
    "# # Load vertex coordinates\n",
    "# vx = tree[\"vx\"].array()\n",
    "# vy = tree[\"vy\"].array()\n",
    "# vz = tree[\"vz\"].array()\n",
    "\n",
    "# # Convert awkward arrays to plain NumPy arrays\n",
    "# vx_np = vx.to_numpy()\n",
    "# vy_np = vy.to_numpy()\n",
    "# vz_np = vz.to_numpy()\n",
    "\n",
    "# # Print first 10 vertex positions\n",
    "# for i in range(10):\n",
    "#     print(f\"Vertex {i}: ({vx[i]:.2f}, {vy[i]:.2f}, {vz[i]:.2f})\")"
   ]
  },
  {
   "cell_type": "code",
   "execution_count": 1,
   "id": "b3c96c99-2949-450a-a14f-caa84f66ba57",
   "metadata": {},
   "outputs": [
    {
     "name": "stdout",
     "output_type": "stream",
     "text": [
      "Successfully wrote shifted_vertices.root\n"
     ]
    }
   ],
   "source": [
    "import uproot\n",
    "import awkward as ak\n",
    "import numpy as np\n",
    "\n",
    "# Input/output\n",
    "input_file = \"mg_pythia_sim_output/root/background/background_vertices.root\"\n",
    "output_file = \"shifted_vertices.root\"\n",
    "tree_name = \"vertices\"\n",
    "\n",
    "# Load data\n",
    "with uproot.open(input_file) as file:\n",
    "    tree = file[tree_name]\n",
    "    data = tree.arrays()\n",
    "\n",
    "# Shift logic\n",
    "vx = data[\"vx\"]\n",
    "vy = data[\"vy\"]\n",
    "vz = data[\"vz\"]\n",
    "\n",
    "angles = np.arctan2(vy, vx)\n",
    "r_shift = 50.0\n",
    "vx_shifted = r_shift * np.cos(angles)\n",
    "vy_shifted = r_shift * np.sin(angles)\n",
    "\n",
    "mask_zero = (vx == 0) & (vy == 0)\n",
    "vx_shifted = ak.where(mask_zero, r_shift, vx_shifted)\n",
    "vy_shifted = ak.where(mask_zero, 0.0, vy_shifted)\n",
    "\n",
    "# Write only compatible branches\n",
    "with uproot.recreate(output_file) as fout:\n",
    "    fout[tree_name] = {\n",
    "        \"event_id\": data[\"event_id\"],\n",
    "        \"vertex_id\": data[\"vertex_id\"],\n",
    "        \"process\": data[\"process\"],\n",
    "        \"vx\": vx_shifted,\n",
    "        \"vy\": vy_shifted,\n",
    "        \"vz\": vz,\n",
    "        \"vt\": data[\"vt\"],\n",
    "        \"vertex_primary\": data[\"vertex_primary\"],\n",
    "        \"vertex_secondary\": data[\"vertex_secondary\"],\n",
    "        \"generation\": data[\"generation\"],\n",
    "        # \"outgoing_particles\": data[\"outgoing_particles\"],  # excluded: too deeply nested\n",
    "    }\n",
    "\n",
    "print(f\"Successfully wrote {output_file}\")"
   ]
  },
  {
   "cell_type": "code",
   "execution_count": null,
   "id": "62eb6686-2af3-4bb7-827a-d2d9e0f85db5",
   "metadata": {},
   "outputs": [],
   "source": []
  }
 ],
 "metadata": {
  "kernelspec": {
   "display_name": "Python 3 (ipykernel)",
   "language": "python",
   "name": "python3"
  },
  "language_info": {
   "codemirror_mode": {
    "name": "ipython",
    "version": 3
   },
   "file_extension": ".py",
   "mimetype": "text/x-python",
   "name": "python",
   "nbconvert_exporter": "python",
   "pygments_lexer": "ipython3",
   "version": "3.10.12"
  }
 },
 "nbformat": 4,
 "nbformat_minor": 5
}
