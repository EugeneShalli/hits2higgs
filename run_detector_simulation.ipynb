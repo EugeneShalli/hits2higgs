{
 "cells": [
  {
   "cell_type": "code",
   "execution_count": 1,
   "id": "9b083823-df0e-4c7e-903a-808a53e552ff",
   "metadata": {},
   "outputs": [],
   "source": [
    "import acts"
   ]
  },
  {
   "cell_type": "code",
   "execution_count": 2,
   "id": "5400b5e1-0e86-408a-bde7-9fe04145d3a1",
   "metadata": {},
   "outputs": [],
   "source": [
    "import sys\n",
    "\n",
    "log = open(\"output_detector.log\", \"w\")\n",
    "sys.stdout = sys.stderr = log"
   ]
  },
  {
   "cell_type": "code",
   "execution_count": null,
   "id": "9f02e0a5-324d-4784-93c0-2d4cce47e4ca",
   "metadata": {},
   "outputs": [],
   "source": [
    "!python fatras_w_digitization_signal_background_v_1_0.py"
   ]
  },
  {
   "cell_type": "code",
   "execution_count": null,
   "id": "82803746-532f-4107-9d67-342ce5505709",
   "metadata": {},
   "outputs": [],
   "source": [
    "print(\"Fatras Done\")"
   ]
  },
  {
   "cell_type": "code",
   "execution_count": null,
   "id": "c7e9452a-c499-4d01-b282-9146b4364529",
   "metadata": {},
   "outputs": [],
   "source": []
  }
 ],
 "metadata": {
  "kernelspec": {
   "display_name": "Python 3 (ipykernel)",
   "language": "python",
   "name": "python3"
  },
  "language_info": {
   "codemirror_mode": {
    "name": "ipython",
    "version": 3
   },
   "file_extension": ".py",
   "mimetype": "text/x-python",
   "name": "python",
   "nbconvert_exporter": "python",
   "pygments_lexer": "ipython3",
   "version": "3.10.12"
  }
 },
 "nbformat": 4,
 "nbformat_minor": 5
}
