{
 "cells": [
  {
   "cell_type": "code",
   "execution_count": 1,
   "id": "9b083823-df0e-4c7e-903a-808a53e552ff",
   "metadata": {},
   "outputs": [],
   "source": [
    "import acts"
   ]
  },
  {
   "cell_type": "code",
   "execution_count": 2,
   "id": "5400b5e1-0e86-408a-bde7-9fe04145d3a1",
   "metadata": {},
   "outputs": [],
   "source": [
    "import sys\n",
    "\n",
    "log = open(\"output_events.log\", \"w\")\n",
    "sys.stdout = sys.stderr = log"
   ]
  },
  {
   "cell_type": "code",
   "execution_count": 3,
   "id": "b1e3e6f3-b4a1-401a-92f0-8ad5ae82acfa",
   "metadata": {},
   "outputs": [],
   "source": [
    "!python pythia_signal_background_v_1_0.py"
   ]
  },
  {
   "cell_type": "code",
   "execution_count": 4,
   "id": "c798a6cd-adbc-491a-982a-7b2e3592ac3e",
   "metadata": {},
   "outputs": [],
   "source": [
    "print(\"Pythia Done\")"
   ]
  }
 ],
 "metadata": {
  "kernelspec": {
   "display_name": "Python 3 (ipykernel)",
   "language": "python",
   "name": "python3"
  },
  "language_info": {
   "codemirror_mode": {
    "name": "ipython",
    "version": 3
   },
   "file_extension": ".py",
   "mimetype": "text/x-python",
   "name": "python",
   "nbconvert_exporter": "python",
   "pygments_lexer": "ipython3",
   "version": "3.10.12"
  }
 },
 "nbformat": 4,
 "nbformat_minor": 5
}
