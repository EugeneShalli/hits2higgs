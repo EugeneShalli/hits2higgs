{
 "cells": [
  {
   "cell_type": "code",
   "execution_count": 1,
   "id": "da954359-db73-4ce5-af99-86e48dc34e34",
   "metadata": {},
   "outputs": [],
   "source": [
    "#!/usr/bin/env python3\n",
    "\n",
    "import pandas as pd\n",
    "from pathlib import Path\n",
    "import acts\n",
    "import acts.examples\n",
    "from acts.examples import DigitizationCoordinatesConverter, readDigiConfigFromJson\n",
    "\n",
    "def convert_digitized_hits_csv(csv_file: Path, digi_config_file: Path):\n",
    "    print(f\"[INFO] Converting digitized CSV hits to global coordinates\")\n",
    "\n",
    "    # Check input files\n",
    "    assert csv_file.exists(), f\"Input CSV does not exist: {csv_file}\"\n",
    "    assert digi_config_file.exists(), f\"Digitization config not found: {digi_config_file}\"\n",
    "\n",
    "    # Load measurement data\n",
    "    df = pd.read_csv(csv_file)\n",
    "\n",
    "    # Build ACTS geometry (GenericDetector)\n",
    "    detector = acts.examples.GenericDetector()\n",
    "    tracking_geometry = detector.trackingGeometry()\n",
    "\n",
    "    # Build Digitization config for the coordinate converter\n",
    "    digi_config = acts.examples.DigitizationAlgorithm.Config(\n",
    "        digitizationConfigs=readDigiConfigFromJson(str(digi_config_file.resolve())),\n",
    "        surfaceByIdentifier=tracking_geometry.geoIdSurfaceMap()\n",
    "    )\n",
    "    converter = DigitizationCoordinatesConverter(digi_config)\n",
    "\n",
    "    # Convert all local coordinates to global\n",
    "    # global_coords = []\n",
    "    # for row in df.itertuples(index=False):\n",
    "    #     try:\n",
    "    #         g = converter.localToGlobal(int(row.geometry_id), float(row.local0), float(row.local1))\n",
    "    #     except RuntimeError:\n",
    "    #         g = (float(\"nan\"), float(\"nan\"), float(\"nan\"))\n",
    "    #     global_coords.append(g)\n",
    "    \n",
    "    # x, y, z = zip(*global_coords)\n",
    "    # df[\"global_x\"] = x\n",
    "    # df[\"global_y\"] = y\n",
    "    # df[\"global_z\"] = z\n",
    "    global_coords = []\n",
    "    volumes = []\n",
    "    layers = []\n",
    "    modules = []\n",
    "    \n",
    "    for row in df.itertuples(index=False):\n",
    "        try:\n",
    "            geo_id = acts.GeometryIdentifier(int(row.geometry_id))\n",
    "            volumes.append(geo_id.volume)\n",
    "            layers.append(geo_id.layer)\n",
    "            modules.append(geo_id.sensitive)\n",
    "    \n",
    "            g = converter.localToGlobal(int(row.geometry_id), float(row.local0), float(row.local1))\n",
    "        except RuntimeError:\n",
    "            g = (float(\"nan\"), float(\"nan\"), float(\"nan\"))\n",
    "            volumes.append(-1)\n",
    "            layers.append(-1)\n",
    "            modules.append(-1)\n",
    "    \n",
    "        global_coords.append(g)\n",
    "\n",
    "    x, y, z = zip(*global_coords)\n",
    "    df[\"global_x\"] = x\n",
    "    df[\"global_y\"] = y\n",
    "    df[\"global_z\"] = z\n",
    "    df[\"volume\"] = volumes\n",
    "    df[\"layer\"] = layers\n",
    "    df[\"module\"] = modules\n",
    "\n",
    "\n",
    "\n",
    "    # Write to CSV\n",
    "    out_csv = csv_file.with_name(\"digitized_hits_global_xyz.csv\")\n",
    "    df.to_csv(out_csv, index=False)\n",
    "    print(f\"[✓] Saved: {out_csv}\")"
   ]
  },
  {
   "cell_type": "code",
   "execution_count": 2,
   "id": "a33cd37e-2ab4-4d6c-80e0-b9d80c042080",
   "metadata": {},
   "outputs": [
    {
     "name": "stdout",
     "output_type": "stream",
     "text": [
      "[INFO] Converting digitized CSV hits to global coordinates\n",
      "15:08:09    GenericDetec   INFO      Building tracking geometry\n",
      "15:08:09    GenericDetec   INFO      Building tracking geometry for Generic Detector in Gen1 mode\n",
      "15:08:09    GenericDetec   INFO      Tracking geometry built\n",
      "[✓] Saved: ttbar_H_production/csv/signal/digitization/digitized_hits_global_xyz.csv\n"
     ]
    }
   ],
   "source": [
    "csv_input = Path(\"ttbar_H_production/csv/signal/digitization/event000000000-measurements.csv\")\n",
    "digi_config = Path(\"acts-41.1.0/Examples/Configs/generic-digi-geometric-config.json\")\n",
    "\n",
    "convert_digitized_hits_csv(csv_input, digi_config)"
   ]
  },
  {
   "cell_type": "code",
   "execution_count": 6,
   "id": "375495c6-839b-4fe7-8015-f22ff04bf09f",
   "metadata": {},
   "outputs": [
    {
     "name": "stdout",
     "output_type": "stream",
     "text": [
      "Index(['measurement_id', 'geometry_id', 'local_key', 'local0', 'local1', 'phi',\n",
      "       'theta', 'time', 'var_local0', 'var_local1', 'var_phi', 'var_theta',\n",
      "       'var_time'],\n",
      "      dtype='object')\n"
     ]
    }
   ],
   "source": [
    "df = pd.read_csv(csv_input)\n",
    "print(df.columns)\n"
   ]
  },
  {
   "cell_type": "code",
   "execution_count": null,
   "id": "35151490-4bc0-4966-9f84-718213247ecc",
   "metadata": {},
   "outputs": [],
   "source": []
  }
 ],
 "metadata": {
  "kernelspec": {
   "display_name": "Python 3 (ipykernel)",
   "language": "python",
   "name": "python3"
  },
  "language_info": {
   "codemirror_mode": {
    "name": "ipython",
    "version": 3
   },
   "file_extension": ".py",
   "mimetype": "text/x-python",
   "name": "python",
   "nbconvert_exporter": "python",
   "pygments_lexer": "ipython3",
   "version": "3.10.12"
  }
 },
 "nbformat": 4,
 "nbformat_minor": 5
}
